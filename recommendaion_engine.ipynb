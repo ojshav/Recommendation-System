{
 "cells": [
  {
   "cell_type": "markdown",
   "metadata": {},
   "source": [
    "# Dataset Schema\n",
    "\n",
    "## 1. User Data (user_data.csv)\n",
    "\n",
    "| Column Name   | Data Type | Description                                           |\n",
    "|---------------|-----------|-------------------------------------------------------|\n",
    "| UserID        | string    | Unique identifier for the user.                      |\n",
    "| FirstName     | string    | First name of the user.                              |\n",
    "| LastName      | string    | Last name of the user.                               |\n",
    "| Email         | string    | Email address of the user.                           |\n",
    "| Gender        | string    | Gender of the user (e.g., Male, Female, Other).     |\n",
    "| AgeGroup      | string    | Age group of the user (e.g., 18-25, 26-35).         |\n",
    "| City          | string    | City of residence.                                   |\n",
    "| Country       | string    | Country of residence.                                |\n",
    "| DateOfBirth   | date      | Date of birth in YYYY-MM-DD format.                 |\n",
    "\n",
    "---\n",
    "\n",
    "## 2. Product Data (product_data.csv)\n",
    "\n",
    "| Column Name     | Data Type | Description                                           |\n",
    "|-----------------|-----------|-------------------------------------------------------|\n",
    "| ProductID       | string    | Unique identifier for the product.                   |\n",
    "| ProductName     | string    | Name of the product.                                 |\n",
    "| Category        | string    | Product category (e.g., Electronics, Clothing).      |\n",
    "| BasePrice       | float     | Base price of the product.                           |\n",
    "| DiscountAmount   | float     | Discount on the product.                             |\n",
    "| StockQuantity   | int       | Available stock quantity.                            |\n",
    "| Description     | string    | Short description of the product.                    |\n",
    "\n",
    "---\n",
    "\n",
    "## 3. Transaction Data (transaction_data.csv)\n",
    "\n",
    "| Column Name         | Data Type | Description                                           |\n",
    "|---------------------|-----------|-------------------------------------------------------|\n",
    "| TransactionID       | string    | Unique identifier for the transaction.               |\n",
    "| UserID              | string    | Unique identifier for the user making the transaction.|\n",
    "| ProductID           | string    | Unique identifier for the purchased product.         |\n",
    "| TransactionAmount    | float     | Total transaction amount.                             |\n",
    "| PaymentMethod       | string    | Payment method used (e.g., Credit Card, PayPal).    |\n",
    "| PurchaseDate        | date      | Date of the transaction in YYYY-MM-DD format.       |\n",
    "| DeliveryTime        | int       | Delivery time in days.                               |\n",
    "| DiscountAmount      | float     | Discount applied during the transaction.             |\n",
    "\n",
    "---\n",
    "\n",
    "## 4. Interaction Data (interaction_data.csv)\n",
    "\n",
    "| Column Name             | Data Type | Description                                           |\n",
    "|-------------------------|-----------|-------------------------------------------------------|\n",
    "| InteractionID           | string    | Unique identifier for the interaction.               |\n",
    "| UserID                  | string    | Unique identifier for the interacting user.          |\n",
    "| ProductID               | string    | Unique identifier for the interacted product.        |\n",
    "| ViewedPages             | int       | Number of product pages viewed.                       |\n",
    "| ProductViewHistory      | int       | Number of times the product was viewed historically.  |\n",
    "| SearchQueries           | int       | Number of search queries related to the product.      |\n",
    "| TimeSpentOnPages        | float     | Total time spent on product pages in minutes.        |\n",
    "| WishlistItems           | int       | Number of times the product was added to the wishlist.|\n",
    "| CartAddedItems          | int       | Number of times the product was added to the cart.    |\n",
    "| CartAbandonedItems      | int       | Number of times the product was abandoned in the cart.|\n",
    "| ReviewRating            | int       | Product rating given by the user (1-5), or null.     |\n",
    "| ReviewText              | string    | Review text given by the user, if any.               |"
   ]
  },
  {
   "cell_type": "markdown",
   "metadata": {},
   "source": [
    "## Import Libraries"
   ]
  },
  {
   "cell_type": "code",
   "execution_count": 28,
   "metadata": {},
   "outputs": [],
   "source": [
    "import pandas as pd\n",
    "import numpy as np\n",
    "from sklearn.preprocessing import OneHotEncoder, StandardScaler,LabelEncoder\n",
    "\n"
   ]
  },
  {
   "cell_type": "markdown",
   "metadata": {},
   "source": [
    "## User Data Preprocessing"
   ]
  },
  {
   "cell_type": "code",
   "execution_count": 29,
   "metadata": {},
   "outputs": [
    {
     "data": {
      "text/html": [
       "<div>\n",
       "<style scoped>\n",
       "    .dataframe tbody tr th:only-of-type {\n",
       "        vertical-align: middle;\n",
       "    }\n",
       "\n",
       "    .dataframe tbody tr th {\n",
       "        vertical-align: top;\n",
       "    }\n",
       "\n",
       "    .dataframe thead th {\n",
       "        text-align: right;\n",
       "    }\n",
       "</style>\n",
       "<table border=\"1\" class=\"dataframe\">\n",
       "  <thead>\n",
       "    <tr style=\"text-align: right;\">\n",
       "      <th></th>\n",
       "      <th>UserID</th>\n",
       "      <th>FirstName</th>\n",
       "      <th>LastName</th>\n",
       "      <th>Email</th>\n",
       "      <th>Gender</th>\n",
       "      <th>AgeGroup</th>\n",
       "      <th>City</th>\n",
       "      <th>Country</th>\n",
       "      <th>DateOfBirth</th>\n",
       "    </tr>\n",
       "  </thead>\n",
       "  <tbody>\n",
       "    <tr>\n",
       "      <th>0</th>\n",
       "      <td>0a257610-2c9f-4212-999b-8a68488d93fb</td>\n",
       "      <td>Kristin</td>\n",
       "      <td>Phelps</td>\n",
       "      <td>anthony93@example.net</td>\n",
       "      <td>Other</td>\n",
       "      <td>18-25</td>\n",
       "      <td>Butlerton</td>\n",
       "      <td>Puerto Rico</td>\n",
       "      <td>1947-03-30</td>\n",
       "    </tr>\n",
       "    <tr>\n",
       "      <th>1</th>\n",
       "      <td>8fad3372-6d02-4263-929c-e94c822c6f10</td>\n",
       "      <td>Tiffany</td>\n",
       "      <td>Lowe</td>\n",
       "      <td>robert39@example.com</td>\n",
       "      <td>Female</td>\n",
       "      <td>26-35</td>\n",
       "      <td>East Zachary</td>\n",
       "      <td>French Polynesia</td>\n",
       "      <td>1987-04-30</td>\n",
       "    </tr>\n",
       "    <tr>\n",
       "      <th>2</th>\n",
       "      <td>313c6b2f-bc3e-467b-ae1f-e29eb68ce6a5</td>\n",
       "      <td>Brandon</td>\n",
       "      <td>Escobar</td>\n",
       "      <td>melissa13@example.org</td>\n",
       "      <td>Male</td>\n",
       "      <td>46-60</td>\n",
       "      <td>North Teresa</td>\n",
       "      <td>Cote d'Ivoire</td>\n",
       "      <td>1956-04-29</td>\n",
       "    </tr>\n",
       "    <tr>\n",
       "      <th>3</th>\n",
       "      <td>40c587b7-4fe5-4fe2-b89a-3c0cd492de8c</td>\n",
       "      <td>Dalton</td>\n",
       "      <td>Espinoza</td>\n",
       "      <td>ywilliams@example.org</td>\n",
       "      <td>Other</td>\n",
       "      <td>60+</td>\n",
       "      <td>New Carly</td>\n",
       "      <td>Mongolia</td>\n",
       "      <td>1946-05-12</td>\n",
       "    </tr>\n",
       "    <tr>\n",
       "      <th>4</th>\n",
       "      <td>05a698a7-5a3d-432e-ac6f-f962ee54d163</td>\n",
       "      <td>Gary</td>\n",
       "      <td>Monroe</td>\n",
       "      <td>alyssa31@example.net</td>\n",
       "      <td>Male</td>\n",
       "      <td>60+</td>\n",
       "      <td>Barbarashire</td>\n",
       "      <td>Uruguay</td>\n",
       "      <td>1955-11-01</td>\n",
       "    </tr>\n",
       "  </tbody>\n",
       "</table>\n",
       "</div>"
      ],
      "text/plain": [
       "                                 UserID FirstName  LastName  \\\n",
       "0  0a257610-2c9f-4212-999b-8a68488d93fb   Kristin    Phelps   \n",
       "1  8fad3372-6d02-4263-929c-e94c822c6f10   Tiffany      Lowe   \n",
       "2  313c6b2f-bc3e-467b-ae1f-e29eb68ce6a5   Brandon   Escobar   \n",
       "3  40c587b7-4fe5-4fe2-b89a-3c0cd492de8c    Dalton  Espinoza   \n",
       "4  05a698a7-5a3d-432e-ac6f-f962ee54d163      Gary    Monroe   \n",
       "\n",
       "                   Email  Gender AgeGroup          City           Country  \\\n",
       "0  anthony93@example.net   Other    18-25     Butlerton       Puerto Rico   \n",
       "1   robert39@example.com  Female    26-35  East Zachary  French Polynesia   \n",
       "2  melissa13@example.org    Male    46-60  North Teresa     Cote d'Ivoire   \n",
       "3  ywilliams@example.org   Other      60+     New Carly          Mongolia   \n",
       "4   alyssa31@example.net    Male      60+  Barbarashire           Uruguay   \n",
       "\n",
       "  DateOfBirth  \n",
       "0  1947-03-30  \n",
       "1  1987-04-30  \n",
       "2  1956-04-29  \n",
       "3  1946-05-12  \n",
       "4  1955-11-01  "
      ]
     },
     "execution_count": 29,
     "metadata": {},
     "output_type": "execute_result"
    }
   ],
   "source": [
    "user_data = pd.read_csv('user_data.csv')\n",
    "user_data.head()"
   ]
  },
  {
   "cell_type": "code",
   "execution_count": 30,
   "metadata": {},
   "outputs": [
    {
     "name": "stdout",
     "output_type": "stream",
     "text": [
      "<class 'pandas.core.frame.DataFrame'>\n",
      "RangeIndex: 30000 entries, 0 to 29999\n",
      "Data columns (total 9 columns):\n",
      " #   Column       Non-Null Count  Dtype \n",
      "---  ------       --------------  ----- \n",
      " 0   UserID       30000 non-null  object\n",
      " 1   FirstName    30000 non-null  object\n",
      " 2   LastName     30000 non-null  object\n",
      " 3   Email        26989 non-null  object\n",
      " 4   Gender       30000 non-null  object\n",
      " 5   AgeGroup     30000 non-null  object\n",
      " 6   City         30000 non-null  object\n",
      " 7   Country      30000 non-null  object\n",
      " 8   DateOfBirth  30000 non-null  object\n",
      "dtypes: object(9)\n",
      "memory usage: 2.1+ MB\n"
     ]
    }
   ],
   "source": [
    "user_data.info()"
   ]
  },
  {
   "cell_type": "code",
   "execution_count": 31,
   "metadata": {},
   "outputs": [
    {
     "data": {
      "text/plain": [
       "UserID            0\n",
       "FirstName         0\n",
       "LastName          0\n",
       "Email          3011\n",
       "Gender            0\n",
       "AgeGroup          0\n",
       "City              0\n",
       "Country           0\n",
       "DateOfBirth       0\n",
       "dtype: int64"
      ]
     },
     "execution_count": 31,
     "metadata": {},
     "output_type": "execute_result"
    }
   ],
   "source": [
    "user_data.isnull().sum()"
   ]
  },
  {
   "cell_type": "code",
   "execution_count": 32,
   "metadata": {},
   "outputs": [],
   "source": [
    "user_data['Email'] = user_data['Email'].fillna('unknown@example.com')"
   ]
  },
  {
   "cell_type": "code",
   "execution_count": 34,
   "metadata": {},
   "outputs": [],
   "source": [
    "\n",
    "from sklearn.preprocessing import OneHotEncoder\n",
    "\n",
    "# One-hot encode categorical data\n",
    "user_encoder = OneHotEncoder(sparse_output=False, handle_unknown='ignore')\n",
    "user_demographics = user_encoder.fit_transform(user_data[['Gender', 'AgeGroup', 'City', 'Country']])\n",
    "\n",
    "# Combine one-hot encoded features with the Age feature\n",
    "user_data['Age'] = pd.to_datetime('today').year - pd.to_datetime(user_data['DateOfBirth']).dt.year\n",
    "user_features = np.hstack((user_demographics, user_data[['Age']].values))\n"
   ]
  },
  {
   "cell_type": "code",
   "execution_count": 38,
   "metadata": {},
   "outputs": [],
   "source": [
    "user_data.drop(columns=['AgeGroup'], inplace=True)"
   ]
  },
  {
   "cell_type": "code",
   "execution_count": 39,
   "metadata": {},
   "outputs": [
    {
     "data": {
      "text/html": [
       "<div>\n",
       "<style scoped>\n",
       "    .dataframe tbody tr th:only-of-type {\n",
       "        vertical-align: middle;\n",
       "    }\n",
       "\n",
       "    .dataframe tbody tr th {\n",
       "        vertical-align: top;\n",
       "    }\n",
       "\n",
       "    .dataframe thead th {\n",
       "        text-align: right;\n",
       "    }\n",
       "</style>\n",
       "<table border=\"1\" class=\"dataframe\">\n",
       "  <thead>\n",
       "    <tr style=\"text-align: right;\">\n",
       "      <th></th>\n",
       "      <th>UserID</th>\n",
       "      <th>FirstName</th>\n",
       "      <th>LastName</th>\n",
       "      <th>Email</th>\n",
       "      <th>Gender</th>\n",
       "      <th>City</th>\n",
       "      <th>Country</th>\n",
       "      <th>DateOfBirth</th>\n",
       "      <th>Age</th>\n",
       "    </tr>\n",
       "  </thead>\n",
       "  <tbody>\n",
       "    <tr>\n",
       "      <th>0</th>\n",
       "      <td>0a257610-2c9f-4212-999b-8a68488d93fb</td>\n",
       "      <td>Kristin</td>\n",
       "      <td>Phelps</td>\n",
       "      <td>anthony93@example.net</td>\n",
       "      <td>Other</td>\n",
       "      <td>Butlerton</td>\n",
       "      <td>Puerto Rico</td>\n",
       "      <td>1947-03-30</td>\n",
       "      <td>77</td>\n",
       "    </tr>\n",
       "    <tr>\n",
       "      <th>1</th>\n",
       "      <td>8fad3372-6d02-4263-929c-e94c822c6f10</td>\n",
       "      <td>Tiffany</td>\n",
       "      <td>Lowe</td>\n",
       "      <td>robert39@example.com</td>\n",
       "      <td>Female</td>\n",
       "      <td>East Zachary</td>\n",
       "      <td>French Polynesia</td>\n",
       "      <td>1987-04-30</td>\n",
       "      <td>37</td>\n",
       "    </tr>\n",
       "    <tr>\n",
       "      <th>2</th>\n",
       "      <td>313c6b2f-bc3e-467b-ae1f-e29eb68ce6a5</td>\n",
       "      <td>Brandon</td>\n",
       "      <td>Escobar</td>\n",
       "      <td>melissa13@example.org</td>\n",
       "      <td>Male</td>\n",
       "      <td>North Teresa</td>\n",
       "      <td>Cote d'Ivoire</td>\n",
       "      <td>1956-04-29</td>\n",
       "      <td>68</td>\n",
       "    </tr>\n",
       "    <tr>\n",
       "      <th>3</th>\n",
       "      <td>40c587b7-4fe5-4fe2-b89a-3c0cd492de8c</td>\n",
       "      <td>Dalton</td>\n",
       "      <td>Espinoza</td>\n",
       "      <td>ywilliams@example.org</td>\n",
       "      <td>Other</td>\n",
       "      <td>New Carly</td>\n",
       "      <td>Mongolia</td>\n",
       "      <td>1946-05-12</td>\n",
       "      <td>78</td>\n",
       "    </tr>\n",
       "    <tr>\n",
       "      <th>4</th>\n",
       "      <td>05a698a7-5a3d-432e-ac6f-f962ee54d163</td>\n",
       "      <td>Gary</td>\n",
       "      <td>Monroe</td>\n",
       "      <td>alyssa31@example.net</td>\n",
       "      <td>Male</td>\n",
       "      <td>Barbarashire</td>\n",
       "      <td>Uruguay</td>\n",
       "      <td>1955-11-01</td>\n",
       "      <td>69</td>\n",
       "    </tr>\n",
       "  </tbody>\n",
       "</table>\n",
       "</div>"
      ],
      "text/plain": [
       "                                 UserID FirstName  LastName  \\\n",
       "0  0a257610-2c9f-4212-999b-8a68488d93fb   Kristin    Phelps   \n",
       "1  8fad3372-6d02-4263-929c-e94c822c6f10   Tiffany      Lowe   \n",
       "2  313c6b2f-bc3e-467b-ae1f-e29eb68ce6a5   Brandon   Escobar   \n",
       "3  40c587b7-4fe5-4fe2-b89a-3c0cd492de8c    Dalton  Espinoza   \n",
       "4  05a698a7-5a3d-432e-ac6f-f962ee54d163      Gary    Monroe   \n",
       "\n",
       "                   Email  Gender          City           Country DateOfBirth  \\\n",
       "0  anthony93@example.net   Other     Butlerton       Puerto Rico  1947-03-30   \n",
       "1   robert39@example.com  Female  East Zachary  French Polynesia  1987-04-30   \n",
       "2  melissa13@example.org    Male  North Teresa     Cote d'Ivoire  1956-04-29   \n",
       "3  ywilliams@example.org   Other     New Carly          Mongolia  1946-05-12   \n",
       "4   alyssa31@example.net    Male  Barbarashire           Uruguay  1955-11-01   \n",
       "\n",
       "   Age  \n",
       "0   77  \n",
       "1   37  \n",
       "2   68  \n",
       "3   78  \n",
       "4   69  "
      ]
     },
     "execution_count": 39,
     "metadata": {},
     "output_type": "execute_result"
    }
   ],
   "source": [
    "user_data.head()"
   ]
  },
  {
   "cell_type": "markdown",
   "metadata": {},
   "source": [
    "## Product data preprocessing"
   ]
  },
  {
   "cell_type": "code",
   "execution_count": 40,
   "metadata": {},
   "outputs": [],
   "source": [
    "product_data  = pd.read_csv('product_data.csv')"
   ]
  },
  {
   "cell_type": "code",
   "execution_count": 41,
   "metadata": {},
   "outputs": [
    {
     "name": "stdout",
     "output_type": "stream",
     "text": [
      "<class 'pandas.core.frame.DataFrame'>\n",
      "RangeIndex: 350 entries, 0 to 349\n",
      "Data columns (total 7 columns):\n",
      " #   Column          Non-Null Count  Dtype  \n",
      "---  ------          --------------  -----  \n",
      " 0   ProductID       350 non-null    object \n",
      " 1   ProductName     350 non-null    object \n",
      " 2   Category        350 non-null    object \n",
      " 3   BasePrice       330 non-null    float64\n",
      " 4   DiscountAmount  330 non-null    float64\n",
      " 5   StockQuantity   350 non-null    int64  \n",
      " 6   Description     350 non-null    object \n",
      "dtypes: float64(2), int64(1), object(4)\n",
      "memory usage: 19.3+ KB\n"
     ]
    }
   ],
   "source": [
    "product_data.info()"
   ]
  },
  {
   "cell_type": "code",
   "execution_count": 42,
   "metadata": {},
   "outputs": [
    {
     "data": {
      "text/plain": [
       "ProductID          0\n",
       "ProductName        0\n",
       "Category           0\n",
       "BasePrice         20\n",
       "DiscountAmount    20\n",
       "StockQuantity      0\n",
       "Description        0\n",
       "dtype: int64"
      ]
     },
     "execution_count": 42,
     "metadata": {},
     "output_type": "execute_result"
    }
   ],
   "source": [
    "product_data.isnull().sum()"
   ]
  },
  {
   "cell_type": "code",
   "execution_count": 43,
   "metadata": {},
   "outputs": [],
   "source": [
    "# Replace NaN values in BasePrice with the mean of the column\n",
    "product_data['BasePrice'] = product_data['BasePrice'].fillna(product_data['BasePrice'].mean())\n",
    "\n",
    "# Replace NaN values in DiscountAmount with the mean of the column\n",
    "product_data['DiscountAmount'] = product_data['DiscountAmount'].fillna(product_data['DiscountAmount'].mean())"
   ]
  },
  {
   "cell_type": "code",
   "execution_count": 44,
   "metadata": {},
   "outputs": [
    {
     "data": {
      "text/html": [
       "<div>\n",
       "<style scoped>\n",
       "    .dataframe tbody tr th:only-of-type {\n",
       "        vertical-align: middle;\n",
       "    }\n",
       "\n",
       "    .dataframe tbody tr th {\n",
       "        vertical-align: top;\n",
       "    }\n",
       "\n",
       "    .dataframe thead th {\n",
       "        text-align: right;\n",
       "    }\n",
       "</style>\n",
       "<table border=\"1\" class=\"dataframe\">\n",
       "  <thead>\n",
       "    <tr style=\"text-align: right;\">\n",
       "      <th></th>\n",
       "      <th>ProductID</th>\n",
       "      <th>ProductName</th>\n",
       "      <th>Category</th>\n",
       "      <th>BasePrice</th>\n",
       "      <th>DiscountAmount</th>\n",
       "      <th>StockQuantity</th>\n",
       "      <th>Description</th>\n",
       "    </tr>\n",
       "  </thead>\n",
       "  <tbody>\n",
       "    <tr>\n",
       "      <th>0</th>\n",
       "      <td>1a6b586e-653b-4d7e-bed5-ff548bfdcb6f</td>\n",
       "      <td>Seamless maximized access</td>\n",
       "      <td>Home &amp; Kitchen</td>\n",
       "      <td>254.940000</td>\n",
       "      <td>46.440</td>\n",
       "      <td>822</td>\n",
       "      <td>Everyone place air reason low well bag service...</td>\n",
       "    </tr>\n",
       "    <tr>\n",
       "      <th>1</th>\n",
       "      <td>e6221569-571e-4ed5-914c-aa70b3f54cb8</td>\n",
       "      <td>Streamlined client-server capability</td>\n",
       "      <td>Clothing</td>\n",
       "      <td>886.588473</td>\n",
       "      <td>144.165</td>\n",
       "      <td>904</td>\n",
       "      <td>Our again at reduce citizen quality must bar e...</td>\n",
       "    </tr>\n",
       "    <tr>\n",
       "      <th>2</th>\n",
       "      <td>cb898d87-eaf9-4604-966e-a5ec8d2c21f6</td>\n",
       "      <td>Managed zero tolerance conglomeration</td>\n",
       "      <td>Books</td>\n",
       "      <td>223.560000</td>\n",
       "      <td>22.190</td>\n",
       "      <td>479</td>\n",
       "      <td>Last may feel tend door conference simply diff...</td>\n",
       "    </tr>\n",
       "    <tr>\n",
       "      <th>3</th>\n",
       "      <td>800cbbdd-1af3-4cb6-b082-8b5176873768</td>\n",
       "      <td>Innovative logistical portal</td>\n",
       "      <td>Toys</td>\n",
       "      <td>975.550000</td>\n",
       "      <td>73.970</td>\n",
       "      <td>589</td>\n",
       "      <td>Technology not near that no garden table magaz...</td>\n",
       "    </tr>\n",
       "    <tr>\n",
       "      <th>4</th>\n",
       "      <td>eee6d8cd-8a78-4db8-b3d4-5085592a0147</td>\n",
       "      <td>Decentralized coherent firmware</td>\n",
       "      <td>Toys</td>\n",
       "      <td>840.510000</td>\n",
       "      <td>232.330</td>\n",
       "      <td>592</td>\n",
       "      <td>Watch sure discussion you commercial job wide ...</td>\n",
       "    </tr>\n",
       "  </tbody>\n",
       "</table>\n",
       "</div>"
      ],
      "text/plain": [
       "                              ProductID  \\\n",
       "0  1a6b586e-653b-4d7e-bed5-ff548bfdcb6f   \n",
       "1  e6221569-571e-4ed5-914c-aa70b3f54cb8   \n",
       "2  cb898d87-eaf9-4604-966e-a5ec8d2c21f6   \n",
       "3  800cbbdd-1af3-4cb6-b082-8b5176873768   \n",
       "4  eee6d8cd-8a78-4db8-b3d4-5085592a0147   \n",
       "\n",
       "                             ProductName        Category   BasePrice  \\\n",
       "0              Seamless maximized access  Home & Kitchen  254.940000   \n",
       "1   Streamlined client-server capability        Clothing  886.588473   \n",
       "2  Managed zero tolerance conglomeration           Books  223.560000   \n",
       "3           Innovative logistical portal            Toys  975.550000   \n",
       "4        Decentralized coherent firmware            Toys  840.510000   \n",
       "\n",
       "   DiscountAmount  StockQuantity  \\\n",
       "0          46.440            822   \n",
       "1         144.165            904   \n",
       "2          22.190            479   \n",
       "3          73.970            589   \n",
       "4         232.330            592   \n",
       "\n",
       "                                         Description  \n",
       "0  Everyone place air reason low well bag service...  \n",
       "1  Our again at reduce citizen quality must bar e...  \n",
       "2  Last may feel tend door conference simply diff...  \n",
       "3  Technology not near that no garden table magaz...  \n",
       "4  Watch sure discussion you commercial job wide ...  "
      ]
     },
     "execution_count": 44,
     "metadata": {},
     "output_type": "execute_result"
    }
   ],
   "source": [
    "product_data.head()"
   ]
  },
  {
   "cell_type": "code",
   "execution_count": 45,
   "metadata": {},
   "outputs": [],
   "source": [
    "# Normalize numerical data\n",
    "scaler = StandardScaler()\n",
    "product_numerics = scaler.fit_transform(product_data[['BasePrice', 'DiscountAmount', 'StockQuantity']])\n",
    "\n",
    "# One-hot encode the category\n",
    "product_category = user_encoder.fit_transform(product_data[['Category']])\n",
    "\n",
    "# Combine features\n",
    "product_features = np.hstack((product_numerics, product_category))\n"
   ]
  },
  {
   "cell_type": "markdown",
   "metadata": {},
   "source": [
    "## Transactional data Preprocessing"
   ]
  },
  {
   "cell_type": "code",
   "execution_count": 46,
   "metadata": {},
   "outputs": [],
   "source": [
    "transaction_data  = pd.read_csv('transaction_data.csv')"
   ]
  },
  {
   "cell_type": "code",
   "execution_count": 47,
   "metadata": {},
   "outputs": [
    {
     "name": "stdout",
     "output_type": "stream",
     "text": [
      "<class 'pandas.core.frame.DataFrame'>\n",
      "RangeIndex: 30000 entries, 0 to 29999\n",
      "Data columns (total 8 columns):\n",
      " #   Column             Non-Null Count  Dtype  \n",
      "---  ------             --------------  -----  \n",
      " 0   TransactionID      30000 non-null  object \n",
      " 1   UserID             30000 non-null  object \n",
      " 2   ProductID          30000 non-null  object \n",
      " 3   TransactionAmount  27057 non-null  float64\n",
      " 4   PaymentMethod      30000 non-null  object \n",
      " 5   PurchaseDate       30000 non-null  object \n",
      " 6   DeliveryTime       30000 non-null  int64  \n",
      " 7   DiscountAmount     27057 non-null  float64\n",
      "dtypes: float64(2), int64(1), object(5)\n",
      "memory usage: 1.8+ MB\n"
     ]
    }
   ],
   "source": [
    "transaction_data.info()"
   ]
  },
  {
   "cell_type": "code",
   "execution_count": 48,
   "metadata": {},
   "outputs": [
    {
     "data": {
      "text/plain": [
       "TransactionID           0\n",
       "UserID                  0\n",
       "ProductID               0\n",
       "TransactionAmount    2943\n",
       "PaymentMethod           0\n",
       "PurchaseDate            0\n",
       "DeliveryTime            0\n",
       "DiscountAmount       2943\n",
       "dtype: int64"
      ]
     },
     "execution_count": 48,
     "metadata": {},
     "output_type": "execute_result"
    }
   ],
   "source": [
    "transaction_data.isnull().sum() "
   ]
  },
  {
   "cell_type": "code",
   "execution_count": 49,
   "metadata": {},
   "outputs": [
    {
     "data": {
      "text/plain": [
       "<seaborn.axisgrid.FacetGrid at 0x22e068dfc70>"
      ]
     },
     "execution_count": 49,
     "metadata": {},
     "output_type": "execute_result"
    },
    {
     "data": {
      "image/png": "[encoded data removed]",
      "text/plain": [
       "<Figure size 500x500 with 1 Axes>"
      ]
     },
     "metadata": {},
     "output_type": "display_data"
    }
   ],
   "source": [
    "import seaborn as sns\n",
    "sns.displot(transaction_data['TransactionAmount'], kde=True)"
   ]
  },
  {
   "cell_type": "code",
   "execution_count": 50,
   "metadata": {},
   "outputs": [],
   "source": [
    "# Replace NaN values in BasePrice with the mean of the column\n",
    "transaction_data['TransactionAmount'] = transaction_data['TransactionAmount'].fillna(transaction_data['TransactionAmount'].median())\n",
    "\n",
    "# Replace NaN values in DiscountAmount with the mean of the column\n",
    "transaction_data['DiscountAmount'] = transaction_data['DiscountAmount'].fillna(transaction_data['DiscountAmount'].mean())"
   ]
  },
  {
   "cell_type": "code",
   "execution_count": 51,
   "metadata": {},
   "outputs": [],
   "source": [
    "# Convert PurchaseDate to datetime\n",
    "transaction_data['PurchaseDate'] = pd.to_datetime(transaction_data['PurchaseDate'])\n",
    "\n",
    "# Encode categorical variables\n",
    "user_encoder = LabelEncoder()\n",
    "product_encoder = LabelEncoder()\n",
    "transaction_data['UserID'] = user_encoder.fit_transform(transaction_data['UserID'])\n",
    "transaction_data['ProductID'] = product_encoder.fit_transform(transaction_data['ProductID'])\n",
    "\n"
   ]
  },
  {
   "cell_type": "code",
   "execution_count": 52,
   "metadata": {},
   "outputs": [
    {
     "data": {
      "text/html": [
       "<div>\n",
       "<style scoped>\n",
       "    .dataframe tbody tr th:only-of-type {\n",
       "        vertical-align: middle;\n",
       "    }\n",
       "\n",
       "    .dataframe tbody tr th {\n",
       "        vertical-align: top;\n",
       "    }\n",
       "\n",
       "    .dataframe thead th {\n",
       "        text-align: right;\n",
       "    }\n",
       "</style>\n",
       "<table border=\"1\" class=\"dataframe\">\n",
       "  <thead>\n",
       "    <tr style=\"text-align: right;\">\n",
       "      <th></th>\n",
       "      <th>TransactionID</th>\n",
       "      <th>UserID</th>\n",
       "      <th>ProductID</th>\n",
       "      <th>TransactionAmount</th>\n",
       "      <th>PaymentMethod</th>\n",
       "      <th>PurchaseDate</th>\n",
       "      <th>DeliveryTime</th>\n",
       "      <th>DiscountAmount</th>\n",
       "    </tr>\n",
       "  </thead>\n",
       "  <tbody>\n",
       "    <tr>\n",
       "      <th>0</th>\n",
       "      <td>064170d5-341e-4042-adbc-a25403bc9915</td>\n",
       "      <td>8825</td>\n",
       "      <td>38</td>\n",
       "      <td>768.58</td>\n",
       "      <td>PayPal</td>\n",
       "      <td>2023-02-02</td>\n",
       "      <td>11</td>\n",
       "      <td>375.560000</td>\n",
       "    </tr>\n",
       "    <tr>\n",
       "      <th>1</th>\n",
       "      <td>68cc6b05-0b09-4483-9ccc-2f0da558ad58</td>\n",
       "      <td>5744</td>\n",
       "      <td>3</td>\n",
       "      <td>154.72</td>\n",
       "      <td>Debit Card</td>\n",
       "      <td>2024-05-30</td>\n",
       "      <td>5</td>\n",
       "      <td>34.370000</td>\n",
       "    </tr>\n",
       "    <tr>\n",
       "      <th>2</th>\n",
       "      <td>ad058982-0b59-401d-b4e6-e6b44a83e39d</td>\n",
       "      <td>351</td>\n",
       "      <td>185</td>\n",
       "      <td>753.88</td>\n",
       "      <td>Debit Card</td>\n",
       "      <td>2023-09-01</td>\n",
       "      <td>11</td>\n",
       "      <td>4.110000</td>\n",
       "    </tr>\n",
       "    <tr>\n",
       "      <th>3</th>\n",
       "      <td>83371819-0358-4d86-960f-738c9c2a90d4</td>\n",
       "      <td>13406</td>\n",
       "      <td>302</td>\n",
       "      <td>998.53</td>\n",
       "      <td>PayPal</td>\n",
       "      <td>2023-02-22</td>\n",
       "      <td>2</td>\n",
       "      <td>460.140000</td>\n",
       "    </tr>\n",
       "    <tr>\n",
       "      <th>4</th>\n",
       "      <td>77e6e26f-f92d-487a-956c-6540a2c77a61</td>\n",
       "      <td>8987</td>\n",
       "      <td>320</td>\n",
       "      <td>556.35</td>\n",
       "      <td>Cash on Delivery</td>\n",
       "      <td>2024-07-22</td>\n",
       "      <td>11</td>\n",
       "      <td>210.084149</td>\n",
       "    </tr>\n",
       "  </tbody>\n",
       "</table>\n",
       "</div>"
      ],
      "text/plain": [
       "                          TransactionID  UserID  ProductID  TransactionAmount  \\\n",
       "0  064170d5-341e-4042-adbc-a25403bc9915    8825         38             768.58   \n",
       "1  68cc6b05-0b09-4483-9ccc-2f0da558ad58    5744          3             154.72   \n",
       "2  ad058982-0b59-401d-b4e6-e6b44a83e39d     351        185             753.88   \n",
       "3  83371819-0358-4d86-960f-738c9c2a90d4   13406        302             998.53   \n",
       "4  77e6e26f-f92d-487a-956c-6540a2c77a61    8987        320             556.35   \n",
       "\n",
       "      PaymentMethod PurchaseDate  DeliveryTime  DiscountAmount  \n",
       "0            PayPal   2023-02-02            11      375.560000  \n",
       "1        Debit Card   2024-05-30             5       34.370000  \n",
       "2        Debit Card   2023-09-01            11        4.110000  \n",
       "3            PayPal   2023-02-22             2      460.140000  \n",
       "4  Cash on Delivery   2024-07-22            11      210.084149  "
      ]
     },
     "execution_count": 52,
     "metadata": {},
     "output_type": "execute_result"
    }
   ],
   "source": [
    "transaction_data.head()"
   ]
  },
  {
   "cell_type": "markdown",
   "metadata": {},
   "source": [
    "## Interaction Data Preprocessing"
   ]
  },
  {
   "cell_type": "code",
   "execution_count": 53,
   "metadata": {},
   "outputs": [],
   "source": [
    "interaction_Data = pd.read_csv('interaction_data.csv')"
   ]
  },
  {
   "cell_type": "code",
   "execution_count": 54,
   "metadata": {},
   "outputs": [
    {
     "data": {
      "text/html": [
       "<div>\n",
       "<style scoped>\n",
       "    .dataframe tbody tr th:only-of-type {\n",
       "        vertical-align: middle;\n",
       "    }\n",
       "\n",
       "    .dataframe tbody tr th {\n",
       "        vertical-align: top;\n",
       "    }\n",
       "\n",
       "    .dataframe thead th {\n",
       "        text-align: right;\n",
       "    }\n",
       "</style>\n",
       "<table border=\"1\" class=\"dataframe\">\n",
       "  <thead>\n",
       "    <tr style=\"text-align: right;\">\n",
       "      <th></th>\n",
       "      <th>InteractionID</th>\n",
       "      <th>UserID</th>\n",
       "      <th>ProductID</th>\n",
       "      <th>ViewedPages</th>\n",
       "      <th>ProductViewHistory</th>\n",
       "      <th>SearchQueries</th>\n",
       "      <th>TimeSpentOnPages</th>\n",
       "      <th>WishlistItems</th>\n",
       "      <th>CartAddedItems</th>\n",
       "      <th>CartAbandonedItems</th>\n",
       "      <th>ReviewRating</th>\n",
       "      <th>ReviewText</th>\n",
       "    </tr>\n",
       "  </thead>\n",
       "  <tbody>\n",
       "    <tr>\n",
       "      <th>0</th>\n",
       "      <td>5985f0f0-f9a4-40ef-87f0-e3b3a7dffe82</td>\n",
       "      <td>72b742ce-3ce7-43c2-b58a-551199f95be4</td>\n",
       "      <td>16ef3477-7f44-4d68-ad1e-7c92115a454c</td>\n",
       "      <td>10</td>\n",
       "      <td>16</td>\n",
       "      <td>5</td>\n",
       "      <td>NaN</td>\n",
       "      <td>3</td>\n",
       "      <td>7</td>\n",
       "      <td>7</td>\n",
       "      <td>5.0</td>\n",
       "      <td>Cover recently last note case what space.</td>\n",
       "    </tr>\n",
       "    <tr>\n",
       "      <th>1</th>\n",
       "      <td>24780e21-7064-4aac-8e98-0313ea1b0125</td>\n",
       "      <td>f6f48340-2cdd-4cb9-a057-f8a1615ed31c</td>\n",
       "      <td>2092caae-e5b8-41eb-b176-95d84b18fda0</td>\n",
       "      <td>9</td>\n",
       "      <td>83</td>\n",
       "      <td>5</td>\n",
       "      <td>NaN</td>\n",
       "      <td>5</td>\n",
       "      <td>1</td>\n",
       "      <td>3</td>\n",
       "      <td>2.0</td>\n",
       "      <td>While safe environmental over read religious w...</td>\n",
       "    </tr>\n",
       "    <tr>\n",
       "      <th>2</th>\n",
       "      <td>03e9ec62-c42a-4ed6-b160-95b12de5cdb7</td>\n",
       "      <td>2e09bd9a-4a07-486e-906d-ec7d88528792</td>\n",
       "      <td>df762f01-6f9f-4b10-a13b-f92e007613e9</td>\n",
       "      <td>7</td>\n",
       "      <td>100</td>\n",
       "      <td>19</td>\n",
       "      <td>53.46</td>\n",
       "      <td>8</td>\n",
       "      <td>10</td>\n",
       "      <td>10</td>\n",
       "      <td>NaN</td>\n",
       "      <td>Suffer Republican bed plan into nice have proj...</td>\n",
       "    </tr>\n",
       "    <tr>\n",
       "      <th>3</th>\n",
       "      <td>1080c35f-970e-4cc0-8a03-c9f2d906ff40</td>\n",
       "      <td>3ff99676-b021-4c6c-94cf-22d6d5668fad</td>\n",
       "      <td>07fc1417-cb66-4d36-bbb9-d80ba06b5833</td>\n",
       "      <td>14</td>\n",
       "      <td>75</td>\n",
       "      <td>3</td>\n",
       "      <td>97.77</td>\n",
       "      <td>6</td>\n",
       "      <td>3</td>\n",
       "      <td>2</td>\n",
       "      <td>4.0</td>\n",
       "      <td>Religious explain high mind answer to push dev...</td>\n",
       "    </tr>\n",
       "    <tr>\n",
       "      <th>4</th>\n",
       "      <td>890b219c-8ff7-4dc0-bf82-ad23e9a516f6</td>\n",
       "      <td>d5abe419-d24d-40e1-93dc-a086b327691d</td>\n",
       "      <td>6d3f920f-9b89-417c-9ee5-545a0195c2cb</td>\n",
       "      <td>18</td>\n",
       "      <td>11</td>\n",
       "      <td>4</td>\n",
       "      <td>24.69</td>\n",
       "      <td>3</td>\n",
       "      <td>0</td>\n",
       "      <td>10</td>\n",
       "      <td>3.0</td>\n",
       "      <td>NaN</td>\n",
       "    </tr>\n",
       "  </tbody>\n",
       "</table>\n",
       "</div>"
      ],
      "text/plain": [
       "                          InteractionID                                UserID  \\\n",
       "0  5985f0f0-f9a4-40ef-87f0-e3b3a7dffe82  72b742ce-3ce7-43c2-b58a-551199f95be4   \n",
       "1  24780e21-7064-4aac-8e98-0313ea1b0125  f6f48340-2cdd-4cb9-a057-f8a1615ed31c   \n",
       "2  03e9ec62-c42a-4ed6-b160-95b12de5cdb7  2e09bd9a-4a07-486e-906d-ec7d88528792   \n",
       "3  1080c35f-970e-4cc0-8a03-c9f2d906ff40  3ff99676-b021-4c6c-94cf-22d6d5668fad   \n",
       "4  890b219c-8ff7-4dc0-bf82-ad23e9a516f6  d5abe419-d24d-40e1-93dc-a086b327691d   \n",
       "\n",
       "                              ProductID  ViewedPages  ProductViewHistory  \\\n",
       "0  16ef3477-7f44-4d68-ad1e-7c92115a454c           10                  16   \n",
       "1  2092caae-e5b8-41eb-b176-95d84b18fda0            9                  83   \n",
       "2  df762f01-6f9f-4b10-a13b-f92e007613e9            7                 100   \n",
       "3  07fc1417-cb66-4d36-bbb9-d80ba06b5833           14                  75   \n",
       "4  6d3f920f-9b89-417c-9ee5-545a0195c2cb           18                  11   \n",
       "\n",
       "   SearchQueries  TimeSpentOnPages  WishlistItems  CartAddedItems  \\\n",
       "0              5               NaN              3               7   \n",
       "1              5               NaN              5               1   \n",
       "2             19             53.46              8              10   \n",
       "3              3             97.77              6               3   \n",
       "4              4             24.69              3               0   \n",
       "\n",
       "   CartAbandonedItems  ReviewRating  \\\n",
       "0                   7           5.0   \n",
       "1                   3           2.0   \n",
       "2                  10           NaN   \n",
       "3                   2           4.0   \n",
       "4                  10           3.0   \n",
       "\n",
       "                                          ReviewText  \n",
       "0          Cover recently last note case what space.  \n",
       "1  While safe environmental over read religious w...  \n",
       "2  Suffer Republican bed plan into nice have proj...  \n",
       "3  Religious explain high mind answer to push dev...  \n",
       "4                                                NaN  "
      ]
     },
     "execution_count": 54,
     "metadata": {},
     "output_type": "execute_result"
    }
   ],
   "source": [
    "interaction_Data.head()"
   ]
  },
  {
   "cell_type": "code",
   "execution_count": 55,
   "metadata": {},
   "outputs": [
    {
     "name": "stdout",
     "output_type": "stream",
     "text": [
      "<class 'pandas.core.frame.DataFrame'>\n",
      "RangeIndex: 30000 entries, 0 to 29999\n",
      "Data columns (total 12 columns):\n",
      " #   Column              Non-Null Count  Dtype  \n",
      "---  ------              --------------  -----  \n",
      " 0   InteractionID       30000 non-null  object \n",
      " 1   UserID              30000 non-null  object \n",
      " 2   ProductID           30000 non-null  object \n",
      " 3   ViewedPages         30000 non-null  int64  \n",
      " 4   ProductViewHistory  30000 non-null  int64  \n",
      " 5   SearchQueries       30000 non-null  int64  \n",
      " 6   TimeSpentOnPages    27074 non-null  float64\n",
      " 7   WishlistItems       30000 non-null  int64  \n",
      " 8   CartAddedItems      30000 non-null  int64  \n",
      " 9   CartAbandonedItems  30000 non-null  int64  \n",
      " 10  ReviewRating        24094 non-null  float64\n",
      " 11  ReviewText          23931 non-null  object \n",
      "dtypes: float64(2), int64(6), object(4)\n",
      "memory usage: 2.7+ MB\n"
     ]
    }
   ],
   "source": [
    "interaction_Data.info()"
   ]
  },
  {
   "cell_type": "code",
   "execution_count": 56,
   "metadata": {},
   "outputs": [
    {
     "data": {
      "text/plain": [
       "InteractionID            0\n",
       "UserID                   0\n",
       "ProductID                0\n",
       "ViewedPages              0\n",
       "ProductViewHistory       0\n",
       "SearchQueries            0\n",
       "TimeSpentOnPages      2926\n",
       "WishlistItems            0\n",
       "CartAddedItems           0\n",
       "CartAbandonedItems       0\n",
       "ReviewRating          5906\n",
       "ReviewText            6069\n",
       "dtype: int64"
      ]
     },
     "execution_count": 56,
     "metadata": {},
     "output_type": "execute_result"
    }
   ],
   "source": [
    "interaction_Data.isnull().sum()"
   ]
  },
  {
   "cell_type": "code",
   "execution_count": 57,
   "metadata": {},
   "outputs": [
    {
     "data": {
      "text/plain": [
       "<seaborn.axisgrid.FacetGrid at 0x22e01fd99c0>"
      ]
     },
     "execution_count": 57,
     "metadata": {},
     "output_type": "execute_result"
    },
    {
     "data": {
      "image/png": "[encoded data removed]",
      "text/plain": [
       "<Figure size 500x500 with 1 Axes>"
      ]
     },
     "metadata": {},
     "output_type": "display_data"
    }
   ],
   "source": [
    "sns.displot(interaction_Data['TimeSpentOnPages'], kde=True)"
   ]
  },
  {
   "cell_type": "code",
   "execution_count": 59,
   "metadata": {},
   "outputs": [
    {
     "data": {
      "text/plain": [
       "<seaborn.axisgrid.FacetGrid at 0x22e026ae830>"
      ]
     },
     "execution_count": 59,
     "metadata": {},
     "output_type": "execute_result"
    },
    {
     "data": {
      "image/png": "[encoded data removed]",
      "text/plain": [
       "<Figure size 500x500 with 1 Axes>"
      ]
     },
     "metadata": {},
     "output_type": "display_data"
    }
   ],
   "source": [
    "sns.displot(interaction_Data['ReviewRating'], kde=True)"
   ]
  },
  {
   "cell_type": "code",
   "execution_count": 60,
   "metadata": {},
   "outputs": [],
   "source": [
    "\n",
    "# Replace NaN values in TimeSpentOnPages with the median of the column\n",
    "interaction_Data['TimeSpentOnPages'] = interaction_Data['TimeSpentOnPages'].fillna(interaction_Data['TimeSpentOnPages'].median())\n",
    "\n",
    "# Replace NaN values in ReviewRating with the mean of the column\n",
    "interaction_Data['ReviewRating'] = interaction_Data['ReviewRating'].fillna(interaction_Data['ReviewRating'].mean())\n"
   ]
  },
  {
   "cell_type": "code",
   "execution_count": 61,
   "metadata": {},
   "outputs": [],
   "source": [
    "interaction_Data['ReviewText'] = interaction_Data['ReviewText'].fillna('No review provided')"
   ]
  },
  {
   "cell_type": "code",
   "execution_count": null,
   "metadata": {},
   "outputs": [],
   "source": []
  }
 ],
 "metadata": {
  "kernelspec": {
   "display_name": ".venv",
   "language": "python",
   "name": "python3"
  },
  "language_info": {
   "codemirror_mode": {
    "name": "ipython",
    "version": 3
   },
   "file_extension": ".py",
   "mimetype": "text/x-python",
   "name": "python",
   "nbconvert_exporter": "python",
   "pygments_lexer": "ipython3",
   "version": "3.10.15"
  }
 },
 "nbformat": 4,
 "nbformat_minor": 2
}
